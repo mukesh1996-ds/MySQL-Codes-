{
 "cells": [
  {
   "cell_type": "code",
   "execution_count": 1,
   "id": "63d99171",
   "metadata": {},
   "outputs": [],
   "source": [
    "# import all the required liberary \n",
    "import pandas as pd\n",
    "import numpy as np\n",
    "import mysql.connector"
   ]
  },
  {
   "cell_type": "code",
   "execution_count": 2,
   "id": "3e180d96",
   "metadata": {},
   "outputs": [
    {
     "name": "stdout",
     "output_type": "stream",
     "text": [
      "Connection Established...\n"
     ]
    }
   ],
   "source": [
    "# Let's connect with the local SQL server\n",
    "\n",
    "connection = mysql.connector.connect(\n",
    "host = \"localhost\",\n",
    "password =\"12345\",\n",
    "user='root'\n",
    ")\n",
    "\n",
    "# Checking if the connection is established with SQL server\n",
    "\n",
    "if connection.is_connected():\n",
    "    print(\"Connection Established...\")"
   ]
  },
  {
   "cell_type": "code",
   "execution_count": 3,
   "id": "f24d7966",
   "metadata": {},
   "outputs": [
    {
     "data": {
      "text/plain": [
       "<mysql.connector.cursor_cext.CMySQLCursorBuffered at 0x2b5e8b3d280>"
      ]
     },
     "execution_count": 3,
     "metadata": {},
     "output_type": "execute_result"
    }
   ],
   "source": [
    "cursor = connection.cursor(buffered=True)\n",
    "cursor"
   ]
  },
  {
   "cell_type": "code",
   "execution_count": 4,
   "id": "d9007ed6",
   "metadata": {},
   "outputs": [],
   "source": [
    "query = \"show databases\"\n",
    "\n",
    "database = cursor.execute(query)"
   ]
  },
  {
   "cell_type": "code",
   "execution_count": 5,
   "id": "372809ac",
   "metadata": {},
   "outputs": [
    {
     "name": "stdout",
     "output_type": "stream",
     "text": [
      "None\n"
     ]
    }
   ],
   "source": [
    "print(database)"
   ]
  },
  {
   "cell_type": "code",
   "execution_count": 6,
   "id": "240b7e52",
   "metadata": {},
   "outputs": [
    {
     "name": "stdout",
     "output_type": "stream",
     "text": [
      "information_schema\n",
      "mysql\n",
      "performance_schema\n",
      "sakila\n",
      "sys\n",
      "world\n"
     ]
    }
   ],
   "source": [
    "# Fetch and print the results\n",
    "databases = cursor.fetchall()\n",
    "for database in databases:\n",
    "    print(database[0])\n"
   ]
  },
  {
   "cell_type": "code",
   "execution_count": null,
   "id": "71763a67",
   "metadata": {},
   "outputs": [],
   "source": []
  }
 ],
 "metadata": {
  "kernelspec": {
   "display_name": "Python 3 (ipykernel)",
   "language": "python",
   "name": "python3"
  },
  "language_info": {
   "codemirror_mode": {
    "name": "ipython",
    "version": 3
   },
   "file_extension": ".py",
   "mimetype": "text/x-python",
   "name": "python",
   "nbconvert_exporter": "python",
   "pygments_lexer": "ipython3",
   "version": "3.9.13"
  }
 },
 "nbformat": 4,
 "nbformat_minor": 5
}
